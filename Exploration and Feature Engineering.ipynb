{
 "metadata": {
  "name": ""
 },
 "nbformat": 3,
 "nbformat_minor": 0,
 "worksheets": [
  {
   "cells": [
    {
     "cell_type": "code",
     "collapsed": false,
     "input": [
      "import pandas as pd"
     ],
     "language": "python",
     "metadata": {},
     "outputs": [
      {
       "output_type": "stream",
       "stream": "stderr",
       "text": [
        "/Users/johnkabler/anaconda/lib/python2.7/site-packages/pytz/__init__.py:35: UserWarning: Module argparse was already imported from /Users/johnkabler/anaconda/python.app/Contents/lib/python2.7/argparse.pyc, but /Users/johnkabler/anaconda/lib/python2.7/site-packages is being added to sys.path\n",
        "  from pkg_resources import resource_stream\n"
       ]
      }
     ],
     "prompt_number": 1
    },
    {
     "cell_type": "code",
     "collapsed": false,
     "input": [
      "!ls"
     ],
     "language": "python",
     "metadata": {},
     "outputs": [
      {
       "output_type": "stream",
       "stream": "stdout",
       "text": [
        "Exploration and Feature Engineering.ipynb                      boiler_r.csv                                                   cleaned_boiler_data.csv\r\n",
        "Oil_Boilers_-_Detailed_Fuel_Consumption_and_Building_Data.xlsx boiler_session.RData                                           initial_munge_explore.R\r\n"
       ]
      }
     ],
     "prompt_number": 2
    },
    {
     "cell_type": "code",
     "collapsed": false,
     "input": [
      "# boiler_file = pd.ExcelFile('Oil_Boilers_-_Detailed_Fuel_Consumption_and_Building_Data.xlsx')"
     ],
     "language": "python",
     "metadata": {},
     "outputs": [],
     "prompt_number": 3
    },
    {
     "cell_type": "code",
     "collapsed": false,
     "input": [
      "# boiler_file.sheet_names"
     ],
     "language": "python",
     "metadata": {},
     "outputs": [
      {
       "metadata": {},
       "output_type": "pyout",
       "prompt_number": 4,
       "text": [
        "[u'Oil Boilers - Detailed Fuel Co']"
       ]
      }
     ],
     "prompt_number": 4
    },
    {
     "cell_type": "code",
     "collapsed": false,
     "input": [
      "boiler_data = boiler_file.parse(boiler_file.sheet_names[0])"
     ],
     "language": "python",
     "metadata": {},
     "outputs": [],
     "prompt_number": 5
    },
    {
     "cell_type": "code",
     "collapsed": true,
     "input": [
      "boiler_data"
     ],
     "language": "python",
     "metadata": {},
     "outputs": [
      {
       "html": [
        "<pre>\n",
        "&lt;class 'pandas.core.frame.DataFrame'&gt;\n",
        "Int64Index: 7575 entries, 0 to 7574\n",
        "Data columns (total 33 columns):\n",
        "Borough, Block and Lot #                                                                    7575  non-null values\n",
        "Facility Address                                                                            7573  non-null values\n",
        "Natural Gas Utility (Con Edison or National Grid                                            7575  non-null values\n",
        "Building Manager                                                                            7575  non-null values\n",
        "Owner                                                                                       7382  non-null values\n",
        "Owner Address                                                                               7342  non-null values\n",
        "DEP Boiler Application #                                                                    7575  non-null values\n",
        "Deadline for phasing out #6 oil (i.e. data of next DEP permit renewal after July 1 2012)    7575  non-null values\n",
        "Boiler Model                                                                                7569  non-null values\n",
        "Number of identical boilers                                                                 7575  non-null values\n",
        "Boiler capacity (Gross BTU)                                                                 7575  non-null values\n",
        "Boiler Installation Date                                                                    7575  non-null values\n",
        "Estimated retirement date of boiler (assuming 35 year average useful life)                  7575  non-null values\n",
        "Is boiler dual fuel capable?                                                                7575  non-null values\n",
        "Age range of boiler                                                                         7575  non-null values\n",
        "Burner Model                                                                                7568  non-null values\n",
        "Primary Fuel                                                                                7575  non-null values\n",
        "Total Estimated Cosumption - High Estimate (Gallons)                                        7575  non-null values\n",
        "Total Estimated Cosumption - Low Estimate (Gallons)                                         7575  non-null values\n",
        "Total Estimated Cosumption - High Estimate (MMBTUs)                                         7575  non-null values\n",
        "Total Estimated Cosumption - Low Estimate  (MMBTUs)                                         7575  non-null values\n",
        "Needs to comply with Greener Greater Buildings Laws?                                        5027  non-null values\n",
        "Deadline for complying with Audit and Retrocommissioning Law                                5027  non-null values\n",
        "Building Type                                                                               7575  non-null values\n",
        "City Council District                                                                       7575  non-null values\n",
        "Total area of buildings on lot                                                              7575  non-null values\n",
        "Number of buildings on property (tax lot)                                                   7575  non-null values\n",
        "Number of floors                                                                            7575  non-null values\n",
        "Number of residential units                                                                 7575  non-null values\n",
        "Number of total units                                                                       7575  non-null values\n",
        "Year constructed                                                                            7575  non-null values\n",
        "Condominium housing?                                                                        7575  non-null values\n",
        "Cooperative housing?                                                                        7575  non-null values\n",
        "dtypes: float64(13), int64(4), object(16)\n",
        "</pre>"
       ],
       "metadata": {},
       "output_type": "pyout",
       "prompt_number": 9,
       "text": [
        "<class 'pandas.core.frame.DataFrame'>\n",
        "Int64Index: 7575 entries, 0 to 7574\n",
        "Data columns (total 33 columns):\n",
        "Borough, Block and Lot #                                                                    7575  non-null values\n",
        "Facility Address                                                                            7573  non-null values\n",
        "Natural Gas Utility (Con Edison or National Grid                                            7575  non-null values\n",
        "Building Manager                                                                            7575  non-null values\n",
        "Owner                                                                                       7382  non-null values\n",
        "Owner Address                                                                               7342  non-null values\n",
        "DEP Boiler Application #                                                                    7575  non-null values\n",
        "Deadline for phasing out #6 oil (i.e. data of next DEP permit renewal after July 1 2012)    7575  non-null values\n",
        "Boiler Model                                                                                7569  non-null values\n",
        "Number of identical boilers                                                                 7575  non-null values\n",
        "Boiler capacity (Gross BTU)                                                                 7575  non-null values\n",
        "Boiler Installation Date                                                                    7575  non-null values\n",
        "Estimated retirement date of boiler (assuming 35 year average useful life)                  7575  non-null values\n",
        "Is boiler dual fuel capable?                                                                7575  non-null values\n",
        "Age range of boiler                                                                         7575  non-null values\n",
        "Burner Model                                                                                7568  non-null values\n",
        "Primary Fuel                                                                                7575  non-null values\n",
        "Total Estimated Cosumption - High Estimate (Gallons)                                        7575  non-null values\n",
        "Total Estimated Cosumption - Low Estimate (Gallons)                                         7575  non-null values\n",
        "Total Estimated Cosumption - High Estimate (MMBTUs)                                         7575  non-null values\n",
        "Total Estimated Cosumption - Low Estimate  (MMBTUs)                                         7575  non-null values\n",
        "Needs to comply with Greener Greater Buildings Laws?                                        5027  non-null values\n",
        "Deadline for complying with Audit and Retrocommissioning Law                                5027  non-null values\n",
        "Building Type                                                                               7575  non-null values\n",
        "City Council District                                                                       7575  non-null values\n",
        "Total area of buildings on lot                                                              7575  non-null values\n",
        "Number of buildings on property (tax lot)                                                   7575  non-null values\n",
        "Number of floors                                                                            7575  non-null values\n",
        "Number of residential units                                                                 7575  non-null values\n",
        "Number of total units                                                                       7575  non-null values\n",
        "Year constructed                                                                            7575  non-null values\n",
        "Condominium housing?                                                                        7575  non-null values\n",
        "Cooperative housing?                                                                        7575  non-null values\n",
        "dtypes: float64(13), int64(4), object(16)"
       ]
      }
     ],
     "prompt_number": 9
    },
    {
     "cell_type": "code",
     "collapsed": false,
     "input": [
      "boiler_clean = boiler_data[['Building Type', 'Total area of buildings on lot', 'Number of buildings on property (tax lot)',\n",
      "                            'Number of floors', 'Number of residential units','Number of total units',\n",
      "                            'Condominium housing?', 'Cooperative housing?','Primary Fuel','Boiler capacity (Gross BTU)',\n",
      "                            'Total Estimated Cosumption - High Estimate (Gallons) ', 'Boiler Installation Date']].copy()"
     ],
     "language": "python",
     "metadata": {},
     "outputs": [],
     "prompt_number": 14
    },
    {
     "cell_type": "code",
     "collapsed": false,
     "input": [
      "boiler_clean['Boiler Installation Date'].median()"
     ],
     "language": "python",
     "metadata": {},
     "outputs": [
      {
       "metadata": {},
       "output_type": "pyout",
       "prompt_number": 17,
       "text": [
        "1987.0"
       ]
      }
     ],
     "prompt_number": 17
    },
    {
     "cell_type": "code",
     "collapsed": false,
     "input": [
      "boiler_clean.columns.tolist()"
     ],
     "language": "python",
     "metadata": {},
     "outputs": [
      {
       "metadata": {},
       "output_type": "pyout",
       "prompt_number": 18,
       "text": [
        "[u'Building Type',\n",
        " u'Total area of buildings on lot',\n",
        " u'Number of buildings on property (tax lot)',\n",
        " u'Number of floors',\n",
        " u'Number of residential units',\n",
        " u'Number of total units',\n",
        " u'Condominium housing?',\n",
        " u'Cooperative housing?',\n",
        " u'Primary Fuel',\n",
        " u'Boiler capacity (Gross BTU)',\n",
        " u'Total Estimated Cosumption - High Estimate (Gallons) ',\n",
        " u'Boiler Installation Date']"
       ]
      }
     ],
     "prompt_number": 18
    },
    {
     "cell_type": "code",
     "collapsed": false,
     "input": [
      "col_list = ['building_type', 'total_area_of_buildings', 'num_of_buildings', 'num_of_floors', 'num_of_resdnts_units'\n",
      "            ,'num_of_units', 'condo?', 'coop?', 'primary_fuel', 'boiler_capacity', 'total_consumption_gallons', 'boiler_install_date']"
     ],
     "language": "python",
     "metadata": {},
     "outputs": [],
     "prompt_number": 19
    },
    {
     "cell_type": "code",
     "collapsed": false,
     "input": [
      "boiler_clean.columns = col_list"
     ],
     "language": "python",
     "metadata": {},
     "outputs": [],
     "prompt_number": 20
    },
    {
     "cell_type": "code",
     "collapsed": false,
     "input": [
      "boiler_clean"
     ],
     "language": "python",
     "metadata": {},
     "outputs": [
      {
       "html": [
        "<pre>\n",
        "&lt;class 'pandas.core.frame.DataFrame'&gt;\n",
        "Int64Index: 7575 entries, 0 to 7574\n",
        "Data columns (total 12 columns):\n",
        "building_type                7575  non-null values\n",
        "total_area_of_buildings      7575  non-null values\n",
        "num_of_buildings             7575  non-null values\n",
        "num_of_floors                7575  non-null values\n",
        "num_of_resdnts_units         7575  non-null values\n",
        "num_of_units                 7575  non-null values\n",
        "condo?                       7575  non-null values\n",
        "coop?                        7575  non-null values\n",
        "primary_fuel                 7575  non-null values\n",
        "boiler_capacity              7575  non-null values\n",
        "total_consumption_gallons    7575  non-null values\n",
        "boiler_install_date          7575  non-null values\n",
        "dtypes: float64(7), int64(1), object(4)\n",
        "</pre>"
       ],
       "metadata": {},
       "output_type": "pyout",
       "prompt_number": 21,
       "text": [
        "<class 'pandas.core.frame.DataFrame'>\n",
        "Int64Index: 7575 entries, 0 to 7574\n",
        "Data columns (total 12 columns):\n",
        "building_type                7575  non-null values\n",
        "total_area_of_buildings      7575  non-null values\n",
        "num_of_buildings             7575  non-null values\n",
        "num_of_floors                7575  non-null values\n",
        "num_of_resdnts_units         7575  non-null values\n",
        "num_of_units                 7575  non-null values\n",
        "condo?                       7575  non-null values\n",
        "coop?                        7575  non-null values\n",
        "primary_fuel                 7575  non-null values\n",
        "boiler_capacity              7575  non-null values\n",
        "total_consumption_gallons    7575  non-null values\n",
        "boiler_install_date          7575  non-null values\n",
        "dtypes: float64(7), int64(1), object(4)"
       ]
      }
     ],
     "prompt_number": 21
    },
    {
     "cell_type": "code",
     "collapsed": false,
     "input": [
      "boiler_clean.to_csv('cleaned_boiler_data.csv')"
     ],
     "language": "python",
     "metadata": {},
     "outputs": [],
     "prompt_number": 22
    },
    {
     "cell_type": "code",
     "collapsed": false,
     "input": [],
     "language": "python",
     "metadata": {},
     "outputs": []
    }
   ],
   "metadata": {}
  }
 ]
}